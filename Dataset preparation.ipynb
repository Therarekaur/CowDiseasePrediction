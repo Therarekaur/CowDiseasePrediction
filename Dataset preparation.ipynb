{
 "cells": [
  {
   "cell_type": "code",
   "execution_count": 1,
   "id": "c734a035",
   "metadata": {},
   "outputs": [],
   "source": [
    "import os\n",
    "import random\n",
    "import shutil\n",
    "\n",
    "from PIL import Image\n",
    "\n",
    "import numpy as np\n",
    "from tensorflow.keras.preprocessing.image import ImageDataGenerator, array_to_img, img_to_array, load_img"
   ]
  },
  {
   "cell_type": "code",
   "execution_count": 3,
   "id": "5ebdb4a8",
   "metadata": {},
   "outputs": [],
   "source": [
    "# Resize and save images (Run Only Once)\n",
    "\n",
    "# Set the paths\n",
    "input_folder = 'tlcows'\n",
    "output_folder = 'rtlcows'\n",
    "# Ensure the output folder exists\n",
    "os.makedirs(output_folder, exist_ok=True)\n",
    "\n",
    "# Iterate over the PNG files in the input folder\n",
    "for filename in os.listdir(input_folder):\n",
    "    if filename.endswith('.jpg'):\n",
    "        # Read the image\n",
    "        image_path = os.path.join(input_folder, filename)\n",
    "        image = Image.open(image_path)\n",
    "\n",
    "        # Resize the image\n",
    "        resized_image = image.resize((224, 224), Image.ANTIALIAS)\n",
    "\n",
    "        # Save the resized image as PNG\n",
    "        output_path = os.path.join(output_folder, filename)\n",
    "        resized_image.save(output_path, 'PNG')\n"
   ]
  },
  {
   "cell_type": "code",
   "execution_count": 6,
   "id": "8f33a0c5",
   "metadata": {},
   "outputs": [
    {
     "name": "stdout",
     "output_type": "stream",
     "text": [
      "Files in train_files: 100\n",
      "All images to array!\n",
      "(100, 224, 224, 3)\n",
      "(100,)\n",
      "(100, 224, 224, 3)\n"
     ]
    }
   ],
   "source": [
    "# Convert images to numpy arrays\n",
    "\n",
    "train_files = []\n",
    "y_train = []\n",
    "folder = 'Test Dataset'\n",
    "onlyfiles = [f for f in os.listdir(folder) if os.path.isfile(os.path.join(folder, f))]\n",
    "i=0\n",
    "for _file in onlyfiles:\n",
    "    train_files.append(_file)\n",
    "    ch = _file[0]\n",
    "    if(ch=='H'):\n",
    "        y_train.append(0)\n",
    "    else:\n",
    "        y_train.append(1)\n",
    "    \n",
    "print(\"Files in train_files: %d\" % len(train_files))\n",
    "\n",
    "# Original Dimensions\n",
    "image_width = 224\n",
    "image_height = 224\n",
    "ratio = 1\n",
    "\n",
    "image_width = int(image_width / ratio)\n",
    "image_height = int(image_height / ratio)\n",
    "\n",
    "channels = 3\n",
    "nb_classes = 2\n",
    "\n",
    "dataset = np.ndarray(shape=(len(train_files), 224, 224, 3),\n",
    "                     dtype=np.float32)\n",
    "\n",
    "i = 0\n",
    "for _file in train_files:\n",
    "    img = load_img(folder + \"/\" + _file)  # this is a PIL image\n",
    "    img.thumbnail((image_width, image_height))\n",
    "    # Convert to Numpy Array\n",
    "    x = img_to_array(img)\n",
    "    x = x.reshape((224, 224, 3))\n",
    "    # Normalize\n",
    "    x = (x - 128.0) / 128.0\n",
    "    dataset[i] = x\n",
    "    i += 1\n",
    "    if i % 300 == 0:\n",
    "        print(\"%d images to array\" % i)\n",
    "print(\"All images to array!\")\n",
    "print(dataset.shape)\n",
    "y_train = np.array(y_train)\n",
    "X_data, y_labels = dataset, y_train\n",
    "print(y_labels.shape)\n",
    "print(X_data.shape)"
   ]
  },
  {
   "cell_type": "code",
   "execution_count": 7,
   "id": "ebc24307",
   "metadata": {},
   "outputs": [],
   "source": [
    "np.save('Test_Dataset.npy', X_data)\n",
    "np.save('Test_Labels.npy', y_labels)"
   ]
  },
  {
   "cell_type": "code",
   "execution_count": null,
   "id": "c506b0e7",
   "metadata": {},
   "outputs": [],
   "source": []
  }
 ],
 "metadata": {
  "kernelspec": {
   "display_name": "Python 3 (ipykernel)",
   "language": "python",
   "name": "python3"
  },
  "language_info": {
   "codemirror_mode": {
    "name": "ipython",
    "version": 3
   },
   "file_extension": ".py",
   "mimetype": "text/x-python",
   "name": "python",
   "nbconvert_exporter": "python",
   "pygments_lexer": "ipython3",
   "version": "3.9.12"
  }
 },
 "nbformat": 4,
 "nbformat_minor": 5
}
