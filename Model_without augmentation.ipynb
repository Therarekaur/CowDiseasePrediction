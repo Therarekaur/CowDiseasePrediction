{
 "cells": [
  {
   "cell_type": "code",
   "execution_count": 1,
   "metadata": {
    "id": "Qnlpq-hW2U7U"
   },
   "outputs": [],
   "source": [
    "from keras.layers import Input, Lambda, Dense, Flatten\n",
    "import matplotlib.pyplot as plt\n",
    "\n",
    "import numpy as np\n",
    "import pandas as pd\n",
    "from tensorflow.keras.preprocessing.image import ImageDataGenerator, array_to_img, img_to_array, load_img\n",
    "import tensorflow\n",
    "from tensorflow.keras.layers import Dense, GlobalAveragePooling2D, Conv2D, MaxPooling2D, Dropout, Flatten\n",
    "from tensorflow.keras.models import Model, Sequential\n",
    "from sklearn.model_selection import StratifiedShuffleSplit\n",
    "from sklearn.model_selection import train_test_split\n",
    "import keras\n",
    "from sklearn.metrics import confusion_matrix, classification_report, accuracy_score\n",
    "from sklearn.model_selection import StratifiedKFold\n",
    "from tensorflow.keras.applications import MobileNetV2\n",
    "from tensorflow.keras.layers import Flatten, Dense\n",
    "from tensorflow.keras.optimizers import Adam\n",
    "from tensorflow.keras.callbacks import ModelCheckpoint, TensorBoard\n",
    "from tensorflow.keras.utils import to_categorical\n"
   ]
  },
  {
   "cell_type": "code",
   "execution_count": 3,
   "metadata": {
    "colab": {
     "base_uri": "https://localhost:8080/"
    },
    "id": "wuS7LTCe2XR_",
    "outputId": "391e14a2-3170-437a-888b-00cfd3e90b40"
   },
   "outputs": [
    {
     "name": "stdout",
     "output_type": "stream",
     "text": [
      "Mounted at /content/drive\n"
     ]
    }
   ],
   "source": [
    "from google.colab import drive\n",
    "drive.mount('/content/drive')"
   ]
  },
  {
   "cell_type": "code",
   "execution_count": 4,
   "metadata": {
    "colab": {
     "base_uri": "https://localhost:8080/"
    },
    "id": "ivPN35C-2bPS",
    "outputId": "640992d5-7695-4ebd-b2aa-817ec8eea30a"
   },
   "outputs": [
    {
     "name": "stdout",
     "output_type": "stream",
     "text": [
      "(480, 224, 224, 3)\n",
      "(480,)\n"
     ]
    }
   ],
   "source": [
    "# Load Training Data\n",
    "\n",
    "X_data = np.load('/content/drive/MyDrive/TrainD.npy')\n",
    "y_labels = np.load('/content/drive/MyDrive/TrainL.npy')\n",
    "print(X_data.shape)\n",
    "print(y_labels.shape)"
   ]
  },
  {
   "cell_type": "code",
   "execution_count": 5,
   "metadata": {
    "colab": {
     "base_uri": "https://localhost:8080/"
    },
    "id": "DK18AoOC2eBi",
    "outputId": "3ca890e9-a4cd-47f6-9eac-4e7a9d04d657"
   },
   "outputs": [
    {
     "name": "stdout",
     "output_type": "stream",
     "text": [
      "Downloading data from https://storage.googleapis.com/tensorflow/keras-applications/mobilenet_v2/mobilenet_v2_weights_tf_dim_ordering_tf_kernels_1.0_224_no_top.h5\n",
      "9406464/9406464 [==============================] - 0s 0us/step\n"
     ]
    },
    {
     "name": "stderr",
     "output_type": "stream",
     "text": [
      "WARNING:absl:`lr` is deprecated in Keras optimizer, please use `learning_rate` or use the legacy optimizer, e.g.,tf.keras.optimizers.legacy.Adam.\n"
     ]
    }
   ],
   "source": [
    "# Build your model\n",
    "mobilenet = MobileNetV2(input_shape=(224, 224, 3), include_top=False, weights='imagenet')\n",
    "model1 = Sequential()\n",
    "model1.add(mobilenet)\n",
    "model1.add(Flatten())\n",
    "model1.add(Dense(2, activation='sigmoid'))\n",
    "\n",
    "model1.compile(optimizer=Adam(lr=0.001), loss='binary_crossentropy', metrics=['accuracy'])"
   ]
  },
  {
   "cell_type": "code",
   "execution_count": 6,
   "metadata": {
    "colab": {
     "base_uri": "https://localhost:8080/"
    },
    "id": "dnwE4dEu2ind",
    "outputId": "0ee4ad3a-e431-4b3d-965e-8fc406d9c900"
   },
   "outputs": [
    {
     "name": "stdout",
     "output_type": "stream",
     "text": [
      "Fold: 1\n",
      "Epoch 1/20\n",
      "12/12 [==============================] - 51s 428ms/step - loss: 0.9493 - accuracy: 0.7839 - val_loss: 1.3472 - val_accuracy: 0.9167\n",
      "Epoch 2/20\n",
      "12/12 [==============================] - 3s 294ms/step - loss: 0.2236 - accuracy: 0.9479 - val_loss: 2.1487 - val_accuracy: 0.8750\n",
      "Epoch 3/20\n",
      "12/12 [==============================] - 5s 409ms/step - loss: 0.0506 - accuracy: 0.9818 - val_loss: 2.2753 - val_accuracy: 0.8229\n",
      "Epoch 4/20\n",
      "12/12 [==============================] - 4s 325ms/step - loss: 0.1006 - accuracy: 0.9792 - val_loss: 2.4765 - val_accuracy: 0.7812\n",
      "Epoch 5/20\n",
      "12/12 [==============================] - 3s 291ms/step - loss: 0.0437 - accuracy: 0.9896 - val_loss: 7.3853 - val_accuracy: 0.6354\n",
      "Epoch 6/20\n",
      "12/12 [==============================] - 3s 291ms/step - loss: 0.1140 - accuracy: 0.9714 - val_loss: 9.1056 - val_accuracy: 0.7083\n",
      "Epoch 7/20\n",
      "12/12 [==============================] - 4s 345ms/step - loss: 0.0923 - accuracy: 0.9818 - val_loss: 6.2569 - val_accuracy: 0.7812\n",
      "Epoch 8/20\n",
      "12/12 [==============================] - 3s 298ms/step - loss: 0.0541 - accuracy: 0.9948 - val_loss: 7.8307 - val_accuracy: 0.6146\n",
      "Epoch 9/20\n",
      "12/12 [==============================] - 3s 291ms/step - loss: 0.0575 - accuracy: 0.9844 - val_loss: 13.9573 - val_accuracy: 0.5000\n",
      "Epoch 10/20\n",
      "12/12 [==============================] - 3s 291ms/step - loss: 0.0413 - accuracy: 0.9792 - val_loss: 10.9635 - val_accuracy: 0.5312\n",
      "Epoch 11/20\n",
      "12/12 [==============================] - 4s 348ms/step - loss: 0.0405 - accuracy: 0.9974 - val_loss: 16.6129 - val_accuracy: 0.5104\n",
      "Epoch 12/20\n",
      "12/12 [==============================] - 3s 296ms/step - loss: 0.0143 - accuracy: 0.9922 - val_loss: 19.3432 - val_accuracy: 0.5000\n",
      "Epoch 13/20\n",
      "12/12 [==============================] - 3s 299ms/step - loss: 0.0067 - accuracy: 0.9974 - val_loss: 20.6398 - val_accuracy: 0.5000\n",
      "Epoch 14/20\n",
      "12/12 [==============================] - 3s 289ms/step - loss: 0.0226 - accuracy: 0.9922 - val_loss: 15.7506 - val_accuracy: 0.5104\n",
      "Epoch 15/20\n",
      "12/12 [==============================] - 4s 350ms/step - loss: 0.0370 - accuracy: 0.9870 - val_loss: 16.6556 - val_accuracy: 0.5312\n",
      "Epoch 16/20\n",
      "12/12 [==============================] - 3s 291ms/step - loss: 0.0879 - accuracy: 0.9740 - val_loss: 15.9947 - val_accuracy: 0.5625\n",
      "Epoch 17/20\n",
      "12/12 [==============================] - 3s 287ms/step - loss: 0.1295 - accuracy: 0.9635 - val_loss: 27.7831 - val_accuracy: 0.5104\n",
      "Epoch 18/20\n",
      "12/12 [==============================] - 4s 317ms/step - loss: 0.0590 - accuracy: 0.9896 - val_loss: 43.3072 - val_accuracy: 0.5521\n",
      "Epoch 19/20\n",
      "12/12 [==============================] - 5s 425ms/step - loss: 0.0377 - accuracy: 0.9922 - val_loss: 31.7481 - val_accuracy: 0.6146\n",
      "Epoch 20/20\n",
      "12/12 [==============================] - 3s 294ms/step - loss: 0.1346 - accuracy: 0.9740 - val_loss: 26.7184 - val_accuracy: 0.6458\n",
      "Validation Accuracy: 0.9166666865348816\n",
      "Fold: 2\n",
      "Epoch 1/20\n",
      "12/12 [==============================] - 4s 324ms/step - loss: 0.2556 - accuracy: 0.9375 - val_loss: 1.3156 - val_accuracy: 0.9167\n",
      "Epoch 2/20\n",
      "12/12 [==============================] - 3s 293ms/step - loss: 0.2913 - accuracy: 0.9401 - val_loss: 10.9178 - val_accuracy: 0.5625\n",
      "Epoch 3/20\n",
      "12/12 [==============================] - 4s 320ms/step - loss: 0.3760 - accuracy: 0.9427 - val_loss: 31.5007 - val_accuracy: 0.5000\n",
      "Epoch 4/20\n",
      "12/12 [==============================] - 4s 317ms/step - loss: 0.3390 - accuracy: 0.9453 - val_loss: 58.8993 - val_accuracy: 0.5000\n",
      "Epoch 5/20\n",
      "12/12 [==============================] - 3s 297ms/step - loss: 0.5266 - accuracy: 0.9141 - val_loss: 85.4651 - val_accuracy: 0.5000\n",
      "Epoch 6/20\n",
      "12/12 [==============================] - 3s 291ms/step - loss: 0.9357 - accuracy: 0.8932 - val_loss: 59.9755 - val_accuracy: 0.5000\n",
      "Epoch 7/20\n",
      "12/12 [==============================] - 4s 343ms/step - loss: 1.0229 - accuracy: 0.8516 - val_loss: 86.9989 - val_accuracy: 0.5000\n",
      "Epoch 8/20\n",
      "12/12 [==============================] - 3s 300ms/step - loss: 1.0985 - accuracy: 0.8568 - val_loss: 108.0216 - val_accuracy: 0.5000\n",
      "Epoch 9/20\n",
      "12/12 [==============================] - 3s 296ms/step - loss: 0.2622 - accuracy: 0.9010 - val_loss: 78.0469 - val_accuracy: 0.5000\n",
      "Epoch 10/20\n",
      "12/12 [==============================] - 3s 289ms/step - loss: 0.3408 - accuracy: 0.9193 - val_loss: 84.5279 - val_accuracy: 0.5000\n",
      "Epoch 11/20\n",
      "12/12 [==============================] - 4s 354ms/step - loss: 0.1588 - accuracy: 0.9479 - val_loss: 115.0378 - val_accuracy: 0.5000\n",
      "Epoch 12/20\n",
      "12/12 [==============================] - 3s 300ms/step - loss: 0.0813 - accuracy: 0.9714 - val_loss: 154.1503 - val_accuracy: 0.5000\n",
      "Epoch 13/20\n",
      "12/12 [==============================] - 3s 293ms/step - loss: 0.0448 - accuracy: 0.9792 - val_loss: 185.1794 - val_accuracy: 0.5000\n",
      "Epoch 14/20\n",
      "12/12 [==============================] - 3s 296ms/step - loss: 0.0169 - accuracy: 0.9974 - val_loss: 190.7867 - val_accuracy: 0.5000\n",
      "Epoch 15/20\n",
      "12/12 [==============================] - 4s 357ms/step - loss: 0.0062 - accuracy: 1.0000 - val_loss: 189.9490 - val_accuracy: 0.5000\n",
      "Epoch 16/20\n",
      "12/12 [==============================] - 3s 295ms/step - loss: 0.0064 - accuracy: 0.9974 - val_loss: 189.1519 - val_accuracy: 0.5000\n",
      "Epoch 17/20\n",
      "12/12 [==============================] - 3s 296ms/step - loss: 0.0087 - accuracy: 1.0000 - val_loss: 192.1861 - val_accuracy: 0.5000\n",
      "Epoch 18/20\n",
      "12/12 [==============================] - 3s 305ms/step - loss: 0.0415 - accuracy: 0.9896 - val_loss: 189.9989 - val_accuracy: 0.5000\n",
      "Epoch 19/20\n",
      "12/12 [==============================] - 4s 335ms/step - loss: 0.0375 - accuracy: 0.9922 - val_loss: 189.1881 - val_accuracy: 0.5000\n",
      "Epoch 20/20\n",
      "12/12 [==============================] - 3s 294ms/step - loss: 0.0200 - accuracy: 0.9948 - val_loss: 188.5897 - val_accuracy: 0.5000\n",
      "Validation Accuracy: 0.9166666865348816\n",
      "Fold: 3\n",
      "Epoch 1/20\n",
      "12/12 [==============================] - 4s 320ms/step - loss: 0.1185 - accuracy: 0.9792 - val_loss: 2.8650 - val_accuracy: 0.8750\n",
      "Epoch 2/20\n",
      "12/12 [==============================] - 4s 355ms/step - loss: 0.1076 - accuracy: 0.9818 - val_loss: 5.6538 - val_accuracy: 0.8333\n",
      "Epoch 3/20\n",
      "12/12 [==============================] - 4s 315ms/step - loss: 0.1239 - accuracy: 0.9714 - val_loss: 2.6376 - val_accuracy: 0.9271\n",
      "Epoch 4/20\n",
      "12/12 [==============================] - 3s 299ms/step - loss: 0.1627 - accuracy: 0.9661 - val_loss: 29.7907 - val_accuracy: 0.5938\n",
      "Epoch 5/20\n",
      "12/12 [==============================] - 3s 298ms/step - loss: 0.0812 - accuracy: 0.9870 - val_loss: 88.5488 - val_accuracy: 0.5000\n",
      "Epoch 6/20\n",
      "12/12 [==============================] - 4s 362ms/step - loss: 0.0798 - accuracy: 0.9635 - val_loss: 101.7311 - val_accuracy: 0.5000\n",
      "Epoch 7/20\n",
      "12/12 [==============================] - 4s 313ms/step - loss: 0.1604 - accuracy: 0.9792 - val_loss: 84.7957 - val_accuracy: 0.5000\n",
      "Epoch 8/20\n",
      "12/12 [==============================] - 3s 303ms/step - loss: 0.3633 - accuracy: 0.9193 - val_loss: 70.2361 - val_accuracy: 0.5104\n",
      "Epoch 9/20\n",
      "12/12 [==============================] - 4s 332ms/step - loss: 0.3573 - accuracy: 0.9323 - val_loss: 75.7599 - val_accuracy: 0.5000\n",
      "Epoch 10/20\n",
      "12/12 [==============================] - 4s 308ms/step - loss: 0.2176 - accuracy: 0.9557 - val_loss: 3.4093 - val_accuracy: 0.5938\n",
      "Epoch 11/20\n",
      "12/12 [==============================] - 3s 296ms/step - loss: 0.2613 - accuracy: 0.9531 - val_loss: 14.3634 - val_accuracy: 0.6771\n",
      "Epoch 12/20\n",
      "12/12 [==============================] - 3s 299ms/step - loss: 0.5172 - accuracy: 0.9531 - val_loss: 66.7774 - val_accuracy: 0.5000\n",
      "Epoch 13/20\n",
      "12/12 [==============================] - 4s 352ms/step - loss: 0.5052 - accuracy: 0.9505 - val_loss: 137.8957 - val_accuracy: 0.5000\n",
      "Epoch 14/20\n",
      "12/12 [==============================] - 3s 298ms/step - loss: 0.1394 - accuracy: 0.9479 - val_loss: 162.0211 - val_accuracy: 0.5000\n",
      "Epoch 15/20\n",
      "12/12 [==============================] - 3s 295ms/step - loss: 0.0615 - accuracy: 0.9766 - val_loss: 216.1071 - val_accuracy: 0.5000\n",
      "Epoch 16/20\n",
      "12/12 [==============================] - 3s 295ms/step - loss: 0.0591 - accuracy: 0.9766 - val_loss: 267.1903 - val_accuracy: 0.5000\n",
      "Epoch 17/20\n",
      "12/12 [==============================] - 4s 356ms/step - loss: 2.3172 - accuracy: 0.9115 - val_loss: 8.2342 - val_accuracy: 0.5000\n",
      "Epoch 18/20\n",
      "12/12 [==============================] - 3s 295ms/step - loss: 1.0172 - accuracy: 0.8776 - val_loss: 33.1846 - val_accuracy: 0.5000\n",
      "Epoch 19/20\n",
      "12/12 [==============================] - 3s 293ms/step - loss: 0.5150 - accuracy: 0.8932 - val_loss: 18.0586 - val_accuracy: 0.5000\n",
      "Epoch 20/20\n",
      "12/12 [==============================] - 3s 294ms/step - loss: 0.3097 - accuracy: 0.9349 - val_loss: 19.1112 - val_accuracy: 0.4896\n",
      "Validation Accuracy: 0.9270833134651184\n",
      "Fold: 4\n",
      "Epoch 1/20\n",
      "12/12 [==============================] - 5s 387ms/step - loss: 0.1504 - accuracy: 0.9531 - val_loss: 2.1350 - val_accuracy: 0.8958\n",
      "Epoch 2/20\n",
      "12/12 [==============================] - 3s 296ms/step - loss: 0.3874 - accuracy: 0.9323 - val_loss: 28.5142 - val_accuracy: 0.5208\n",
      "Epoch 3/20\n",
      "12/12 [==============================] - 3s 293ms/step - loss: 0.2223 - accuracy: 0.9635 - val_loss: 5.1794 - val_accuracy: 0.7917\n",
      "Epoch 4/20\n",
      "12/12 [==============================] - 3s 296ms/step - loss: 0.2753 - accuracy: 0.9531 - val_loss: 2.6268 - val_accuracy: 0.8854\n",
      "Epoch 5/20\n",
      "12/12 [==============================] - 4s 355ms/step - loss: 0.1165 - accuracy: 0.9635 - val_loss: 14.4928 - val_accuracy: 0.6771\n",
      "Epoch 6/20\n",
      "12/12 [==============================] - 3s 301ms/step - loss: 0.0475 - accuracy: 0.9896 - val_loss: 20.3442 - val_accuracy: 0.6875\n",
      "Epoch 7/20\n",
      "12/12 [==============================] - 3s 295ms/step - loss: 0.0251 - accuracy: 0.9974 - val_loss: 7.8260 - val_accuracy: 0.8125\n",
      "Epoch 8/20\n",
      "12/12 [==============================] - 4s 326ms/step - loss: 0.0464 - accuracy: 0.9870 - val_loss: 34.0462 - val_accuracy: 0.5938\n",
      "Epoch 9/20\n",
      "12/12 [==============================] - 4s 323ms/step - loss: 0.0240 - accuracy: 0.9922 - val_loss: 49.2035 - val_accuracy: 0.5208\n",
      "Epoch 10/20\n",
      "12/12 [==============================] - 3s 298ms/step - loss: 0.0593 - accuracy: 0.9766 - val_loss: 54.7498 - val_accuracy: 0.5208\n",
      "Epoch 11/20\n",
      "12/12 [==============================] - 3s 293ms/step - loss: 0.0730 - accuracy: 0.9818 - val_loss: 52.5933 - val_accuracy: 0.5000\n",
      "Epoch 12/20\n",
      "12/12 [==============================] - 4s 343ms/step - loss: 0.0523 - accuracy: 0.9896 - val_loss: 52.1721 - val_accuracy: 0.5104\n",
      "Epoch 13/20\n",
      "12/12 [==============================] - 3s 302ms/step - loss: 0.0246 - accuracy: 0.9948 - val_loss: 51.8410 - val_accuracy: 0.5104\n",
      "Epoch 14/20\n",
      "12/12 [==============================] - 3s 296ms/step - loss: 0.0036 - accuracy: 1.0000 - val_loss: 52.2636 - val_accuracy: 0.5312\n",
      "Epoch 15/20\n",
      "12/12 [==============================] - 3s 296ms/step - loss: 0.0011 - accuracy: 1.0000 - val_loss: 51.2993 - val_accuracy: 0.5417\n",
      "Epoch 16/20\n",
      "12/12 [==============================] - 4s 355ms/step - loss: 3.0931e-04 - accuracy: 1.0000 - val_loss: 50.1952 - val_accuracy: 0.5417\n",
      "Epoch 17/20\n",
      "12/12 [==============================] - 3s 296ms/step - loss: 3.3105e-04 - accuracy: 1.0000 - val_loss: 48.5857 - val_accuracy: 0.5521\n",
      "Epoch 18/20\n",
      "12/12 [==============================] - 3s 294ms/step - loss: 2.9904e-04 - accuracy: 1.0000 - val_loss: 46.5450 - val_accuracy: 0.5521\n",
      "Epoch 19/20\n",
      "12/12 [==============================] - 3s 292ms/step - loss: 1.2677e-04 - accuracy: 1.0000 - val_loss: 45.1980 - val_accuracy: 0.5625\n",
      "Epoch 20/20\n",
      "12/12 [==============================] - 4s 352ms/step - loss: 1.8431e-04 - accuracy: 1.0000 - val_loss: 43.8117 - val_accuracy: 0.5833\n",
      "Validation Accuracy: 0.8958333134651184\n",
      "Fold: 5\n",
      "Epoch 1/20\n",
      "12/12 [==============================] - 5s 428ms/step - loss: 0.0566 - accuracy: 0.9870 - val_loss: 1.4508 - val_accuracy: 0.9479\n",
      "Epoch 2/20\n",
      "12/12 [==============================] - 3s 294ms/step - loss: 0.1126 - accuracy: 0.9792 - val_loss: 2.4012 - val_accuracy: 0.8854\n",
      "Epoch 3/20\n",
      "12/12 [==============================] - 3s 294ms/step - loss: 0.1476 - accuracy: 0.9688 - val_loss: 54.0708 - val_accuracy: 0.5000\n",
      "Epoch 4/20\n",
      "12/12 [==============================] - 4s 354ms/step - loss: 0.7792 - accuracy: 0.9401 - val_loss: 34.5535 - val_accuracy: 0.5000\n",
      "Epoch 5/20\n",
      "12/12 [==============================] - 4s 313ms/step - loss: 0.2724 - accuracy: 0.9505 - val_loss: 5.4128 - val_accuracy: 0.9062\n",
      "Epoch 6/20\n",
      "12/12 [==============================] - 3s 290ms/step - loss: 0.2586 - accuracy: 0.9505 - val_loss: 61.5633 - val_accuracy: 0.5417\n",
      "Epoch 7/20\n",
      "12/12 [==============================] - 3s 294ms/step - loss: 0.2631 - accuracy: 0.9167 - val_loss: 220.4437 - val_accuracy: 0.5000\n",
      "Epoch 8/20\n",
      "12/12 [==============================] - 4s 354ms/step - loss: 0.8048 - accuracy: 0.9062 - val_loss: 219.1057 - val_accuracy: 0.5000\n",
      "Epoch 9/20\n",
      "12/12 [==============================] - 3s 296ms/step - loss: 0.4494 - accuracy: 0.9036 - val_loss: 226.7822 - val_accuracy: 0.5000\n",
      "Epoch 10/20\n",
      "12/12 [==============================] - 3s 295ms/step - loss: 1.0369 - accuracy: 0.9036 - val_loss: 169.5907 - val_accuracy: 0.5000\n",
      "Epoch 11/20\n",
      "12/12 [==============================] - 3s 299ms/step - loss: 0.4322 - accuracy: 0.8750 - val_loss: 235.7153 - val_accuracy: 0.5000\n",
      "Epoch 12/20\n",
      "12/12 [==============================] - 4s 340ms/step - loss: 1.3347 - accuracy: 0.8802 - val_loss: 118.0388 - val_accuracy: 0.5729\n",
      "Epoch 13/20\n",
      "12/12 [==============================] - 3s 296ms/step - loss: 0.6470 - accuracy: 0.7969 - val_loss: 33.4041 - val_accuracy: 0.5000\n",
      "Epoch 14/20\n",
      "12/12 [==============================] - 3s 291ms/step - loss: 0.3669 - accuracy: 0.8698 - val_loss: 14.7541 - val_accuracy: 0.5104\n",
      "Epoch 15/20\n",
      "12/12 [==============================] - 4s 314ms/step - loss: 0.7893 - accuracy: 0.8516 - val_loss: 14.0656 - val_accuracy: 0.5000\n",
      "Epoch 16/20\n",
      "12/12 [==============================] - 4s 328ms/step - loss: 0.2824 - accuracy: 0.8750 - val_loss: 23.4976 - val_accuracy: 0.5000\n",
      "Epoch 17/20\n",
      "12/12 [==============================] - 3s 298ms/step - loss: 1.1046 - accuracy: 0.8724 - val_loss: 52.4315 - val_accuracy: 0.5000\n",
      "Epoch 18/20\n",
      "12/12 [==============================] - 3s 293ms/step - loss: 1.8151 - accuracy: 0.8698 - val_loss: 23.4301 - val_accuracy: 0.4792\n",
      "Epoch 19/20\n",
      "12/12 [==============================] - 4s 331ms/step - loss: 1.7431 - accuracy: 0.8359 - val_loss: 30.5940 - val_accuracy: 0.5000\n",
      "Epoch 20/20\n",
      "12/12 [==============================] - 3s 302ms/step - loss: 1.1395 - accuracy: 0.8359 - val_loss: 24.3526 - val_accuracy: 0.4896\n",
      "Validation Accuracy: 0.9479166865348816\n",
      "Training complete.\n"
     ]
    }
   ],
   "source": [
    "# Train Model\n",
    "\n",
    "# Prepare your dataset\n",
    "\n",
    "# Perform 5-fold cross-validation\n",
    "kfold = StratifiedKFold(n_splits=5, shuffle=True)\n",
    "best_val_acc = 0.0\n",
    "train_times = []\n",
    "\n",
    "for fold, (train_indices, val_indices) in enumerate(kfold.split(X_data, y_labels)):\n",
    "    print(f\"Fold: {fold + 1}\")\n",
    "\n",
    "    # Split the data into training and validation sets for the current fold\n",
    "    X_train_fold, X_val_fold = X_data[train_indices], X_data[val_indices]\n",
    "    y_train_fold, y_val_fold = y_labels[train_indices], y_labels[val_indices]\n",
    "\n",
    "    # Perform one-hot encoding of the labels\n",
    "    num_classes = 2\n",
    "    y_train_fold = to_categorical(y_train_fold, num_classes)\n",
    "    y_val_fold = to_categorical(y_val_fold, num_classes)\n",
    "\n",
    "    # Define a callback to save the best weights based on validation accuracy improvement\n",
    "    checkpoint_callback = keras.callbacks.ModelCheckpoint(\n",
    "        f\"best_weights_mfold{fold + 1}.h5\", save_best_only=True, save_weights_only=True, monitor='val_accuracy', mode='max'\n",
    "    )\n",
    "\n",
    "    # Define a TensorBoard callback\n",
    "    tensorboard_callback = TensorBoard(log_dir=f\"logs/fold{fold + 1}\", histogram_freq=1)\n",
    "\n",
    "    # Train the model\n",
    "    model1.fit(\n",
    "        X_train_fold, y_train_fold,\n",
    "        validation_data=(X_val_fold, y_val_fold),\n",
    "        batch_size=32,\n",
    "        epochs=20,\n",
    "        callbacks=[checkpoint_callback, tensorboard_callback]\n",
    "    )\n",
    "\n",
    "    # Load the best weights based on validation accuracy\n",
    "    model1.load_weights(f\"best_weights_mfold{fold + 1}.h5\")\n",
    "\n",
    "    # Evaluate the model on the validation set\n",
    "    _, val_acc = model1.evaluate(X_val_fold, y_val_fold, verbose=0)\n",
    "    print(f\"Validation Accuracy: {val_acc}\")\n",
    "\n",
    "    # Update the best validation accuracy and save the weights if there's an improvement\n",
    "    if val_acc > best_val_acc:\n",
    "        best_val_acc = val_acc\n",
    "        model1.save_weights(\"best_weights_m.h5\")\n",
    "\n",
    "print(\"Training complete.\")"
   ]
  },
  {
   "cell_type": "code",
   "execution_count": 7,
   "metadata": {
    "id": "xNuSayKN2ox1"
   },
   "outputs": [],
   "source": [
    "# Load Best Weights\n",
    "\n",
    "model1.load_weights('best_weights_m.h5')"
   ]
  },
  {
   "cell_type": "code",
   "execution_count": 8,
   "metadata": {
    "colab": {
     "base_uri": "https://localhost:8080/"
    },
    "id": "uZDcF6Iq37Wa",
    "outputId": "d1639a9c-9e45-4493-8bea-d95e84d35f0b"
   },
   "outputs": [
    {
     "name": "stdout",
     "output_type": "stream",
     "text": [
      "(120, 224, 224, 3)\n",
      "(120,)\n"
     ]
    }
   ],
   "source": [
    "# Load NumPy arrays\n",
    "\n",
    "X_test = np.load('/content/drive/MyDrive/TestD.npy')\n",
    "y_test = np.load('/content/drive/MyDrive/TestL.npy')\n",
    "\n",
    "print(X_test.shape)\n",
    "print(y_test.shape)"
   ]
  },
  {
   "cell_type": "code",
   "execution_count": 9,
   "metadata": {
    "colab": {
     "base_uri": "https://localhost:8080/"
    },
    "id": "jyXe7iBW2yoS",
    "outputId": "ce65dc81-72c6-4093-fe07-2cd53a7afacb"
   },
   "outputs": [
    {
     "name": "stdout",
     "output_type": "stream",
     "text": [
      "4/4 [==============================] - 2s 234ms/step\n",
      "Confusion Matrix (5-fold CV): \n",
      "[[53  2]\n",
      " [ 7 58]]\n",
      "Accuracy (5-fold CV): 92.5\n",
      "Classification Report (5-fold CV): \n",
      "              precision    recall  f1-score   support\n",
      "\n",
      "           0       0.96      0.88      0.92        60\n",
      "           1       0.89      0.97      0.93        60\n",
      "\n",
      "    accuracy                           0.93       120\n",
      "   macro avg       0.93      0.93      0.92       120\n",
      "weighted avg       0.93      0.93      0.92       120\n",
      "\n"
     ]
    }
   ],
   "source": [
    "# Confusion Matrix\n",
    "\n",
    "y_test_pred = model1.predict(X_test)\n",
    "print('Confusion Matrix (5-fold CV): ')\n",
    "#test_pred1 = np.argmax(y_test_pred, axis=1)\n",
    "cm1 = confusion_matrix(np.array(y_test_pred).argmax(axis=1), np.array(y_test))\n",
    "print(cm1)\n",
    "\n",
    "#Print accuracy\n",
    "a1 = round(accuracy_score(np.array(y_test), np.array(y_test_pred).argmax(axis=1)),4)*100\n",
    "print(\"Accuracy (5-fold CV): {}\".format(a1))\n",
    "\n",
    "#Classification Report\n",
    "print(\"Classification Report (5-fold CV): \")\n",
    "cr1 = classification_report(np.array(y_test), np.array(y_test_pred).argmax(axis=1))\n",
    "print(cr1)"
   ]
  }
 ],
 "metadata": {
  "accelerator": "GPU",
  "colab": {
   "gpuType": "T4",
   "provenance": []
  },
  "kernelspec": {
   "display_name": "Python 3 (ipykernel)",
   "language": "python",
   "name": "python3"
  },
  "language_info": {
   "codemirror_mode": {
    "name": "ipython",
    "version": 3
   },
   "file_extension": ".py",
   "mimetype": "text/x-python",
   "name": "python",
   "nbconvert_exporter": "python",
   "pygments_lexer": "ipython3",
   "version": "3.9.12"
  }
 },
 "nbformat": 4,
 "nbformat_minor": 1
}
